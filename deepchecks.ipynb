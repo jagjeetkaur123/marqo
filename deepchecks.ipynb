{
 "cells": [
  {
   "cell_type": "code",
   "execution_count": 7,
   "metadata": {},
   "outputs": [
    {
     "name": "stdout",
     "output_type": "stream",
     "text": [
      "Requirement already satisfied: deepchecks in c:\\users\\sarwa\\anaconda3\\lib\\site-packages (0.8.3)Note: you may need to restart the kernel to use updated packages.\n",
      "\n",
      "Requirement already satisfied: ipykernel>=5.3.0 in c:\\users\\sarwa\\anaconda3\\lib\\site-packages (from deepchecks) (6.9.1)\n",
      "Requirement already satisfied: numpy>=1.19 in c:\\users\\sarwa\\anaconda3\\lib\\site-packages (from deepchecks) (1.21.5)\n",
      "Requirement already satisfied: ipython<8,>=7.15.0 in c:\\users\\sarwa\\anaconda3\\lib\\site-packages (from deepchecks) (7.34.0)\n",
      "Requirement already satisfied: tqdm>=4.62.3 in c:\\users\\sarwa\\anaconda3\\lib\\site-packages (from deepchecks) (4.64.0)\n",
      "Requirement already satisfied: PyNomaly>=0.3.3 in c:\\users\\sarwa\\anaconda3\\lib\\site-packages (from deepchecks) (0.3.3)\n",
      "Requirement already satisfied: matplotlib>=3.3.4 in c:\\users\\sarwa\\anaconda3\\lib\\site-packages (from deepchecks) (3.5.1)\n",
      "Requirement already satisfied: typing-extensions>=3.7.4.3 in c:\\users\\sarwa\\anaconda3\\lib\\site-packages (from deepchecks) (4.1.1)\n",
      "Requirement already satisfied: jsonpickle>=2 in c:\\users\\sarwa\\anaconda3\\lib\\site-packages (from deepchecks) (2.2.0)\n",
      "Requirement already satisfied: ipywidgets<8,>=7.6.5 in c:\\users\\sarwa\\anaconda3\\lib\\site-packages (from deepchecks) (7.6.5)\n",
      "Requirement already satisfied: scipy>=1.4.1 in c:\\users\\sarwa\\anaconda3\\lib\\site-packages (from deepchecks) (1.7.3)\n",
      "Requirement already satisfied: plotly==5.5.0 in c:\\users\\sarwa\\anaconda3\\lib\\site-packages (from deepchecks) (5.5.0)\n",
      "Requirement already satisfied: statsmodels>=0.11.0 in c:\\users\\sarwa\\anaconda3\\lib\\site-packages (from deepchecks) (0.13.2)\n",
      "Requirement already satisfied: category-encoders>=2.3.0 in c:\\users\\sarwa\\anaconda3\\lib\\site-packages (from deepchecks) (2.5.0)\n",
      "Requirement already satisfied: scikit-learn>=0.23.2 in c:\\users\\sarwa\\anaconda3\\lib\\site-packages (from deepchecks) (1.0.2)\n",
      "Requirement already satisfied: pandas>=1.1.5 in c:\\users\\sarwa\\anaconda3\\lib\\site-packages (from deepchecks) (1.4.2)\n",
      "Requirement already satisfied: tenacity>=6.2.0 in c:\\users\\sarwa\\anaconda3\\lib\\site-packages (from plotly==5.5.0->deepchecks) (8.0.1)\n",
      "Requirement already satisfied: six in c:\\users\\sarwa\\anaconda3\\lib\\site-packages (from plotly==5.5.0->deepchecks) (1.16.0)\n",
      "Requirement already satisfied: patsy>=0.5.1 in c:\\users\\sarwa\\anaconda3\\lib\\site-packages (from category-encoders>=2.3.0->deepchecks) (0.5.2)\n",
      "Requirement already satisfied: jupyter-client<8.0 in c:\\users\\sarwa\\anaconda3\\lib\\site-packages (from ipykernel>=5.3.0->deepchecks) (6.1.12)\n",
      "Requirement already satisfied: tornado<7.0,>=4.2 in c:\\users\\sarwa\\anaconda3\\lib\\site-packages (from ipykernel>=5.3.0->deepchecks) (6.1)\n",
      "Requirement already satisfied: matplotlib-inline<0.2.0,>=0.1.0 in c:\\users\\sarwa\\anaconda3\\lib\\site-packages (from ipykernel>=5.3.0->deepchecks) (0.1.2)\n",
      "Requirement already satisfied: debugpy<2.0,>=1.0.0 in c:\\users\\sarwa\\anaconda3\\lib\\site-packages (from ipykernel>=5.3.0->deepchecks) (1.5.1)\n",
      "Requirement already satisfied: nest-asyncio in c:\\users\\sarwa\\anaconda3\\lib\\site-packages (from ipykernel>=5.3.0->deepchecks) (1.5.5)\n",
      "Requirement already satisfied: traitlets<6.0,>=5.1.0 in c:\\users\\sarwa\\anaconda3\\lib\\site-packages (from ipykernel>=5.3.0->deepchecks) (5.1.1)\n",
      "Requirement already satisfied: decorator in c:\\users\\sarwa\\anaconda3\\lib\\site-packages (from ipython<8,>=7.15.0->deepchecks) (5.1.1)\n",
      "Requirement already satisfied: jedi>=0.16 in c:\\users\\sarwa\\anaconda3\\lib\\site-packages (from ipython<8,>=7.15.0->deepchecks) (0.18.1)\n",
      "Requirement already satisfied: setuptools>=18.5 in c:\\users\\sarwa\\anaconda3\\lib\\site-packages (from ipython<8,>=7.15.0->deepchecks) (61.2.0)\n",
      "Requirement already satisfied: colorama in c:\\users\\sarwa\\anaconda3\\lib\\site-packages (from ipython<8,>=7.15.0->deepchecks) (0.4.4)\n",
      "Requirement already satisfied: prompt-toolkit!=3.0.0,!=3.0.1,<3.1.0,>=2.0.0 in c:\\users\\sarwa\\anaconda3\\lib\\site-packages (from ipython<8,>=7.15.0->deepchecks) (3.0.20)\n",
      "Requirement already satisfied: backcall in c:\\users\\sarwa\\anaconda3\\lib\\site-packages (from ipython<8,>=7.15.0->deepchecks) (0.2.0)\n",
      "Requirement already satisfied: pickleshare in c:\\users\\sarwa\\anaconda3\\lib\\site-packages (from ipython<8,>=7.15.0->deepchecks) (0.7.5)\n",
      "Requirement already satisfied: pygments in c:\\users\\sarwa\\anaconda3\\lib\\site-packages (from ipython<8,>=7.15.0->deepchecks) (2.11.2)\n",
      "Requirement already satisfied: jupyterlab-widgets>=1.0.0 in c:\\users\\sarwa\\anaconda3\\lib\\site-packages (from ipywidgets<8,>=7.6.5->deepchecks) (1.0.0)\n",
      "Requirement already satisfied: nbformat>=4.2.0 in c:\\users\\sarwa\\anaconda3\\lib\\site-packages (from ipywidgets<8,>=7.6.5->deepchecks) (5.3.0)\n",
      "Requirement already satisfied: widgetsnbextension~=3.5.0 in c:\\users\\sarwa\\anaconda3\\lib\\site-packages (from ipywidgets<8,>=7.6.5->deepchecks) (3.5.2)\n",
      "Requirement already satisfied: ipython-genutils~=0.2.0 in c:\\users\\sarwa\\anaconda3\\lib\\site-packages (from ipywidgets<8,>=7.6.5->deepchecks) (0.2.0)\n",
      "Requirement already satisfied: parso<0.9.0,>=0.8.0 in c:\\users\\sarwa\\anaconda3\\lib\\site-packages (from jedi>=0.16->ipython<8,>=7.15.0->deepchecks) (0.8.3)\n",
      "Requirement already satisfied: jupyter-core>=4.6.0 in c:\\users\\sarwa\\anaconda3\\lib\\site-packages (from jupyter-client<8.0->ipykernel>=5.3.0->deepchecks) (4.9.2)\n",
      "Requirement already satisfied: python-dateutil>=2.1 in c:\\users\\sarwa\\anaconda3\\lib\\site-packages (from jupyter-client<8.0->ipykernel>=5.3.0->deepchecks) (2.8.2)\n",
      "Requirement already satisfied: pyzmq>=13 in c:\\users\\sarwa\\anaconda3\\lib\\site-packages (from jupyter-client<8.0->ipykernel>=5.3.0->deepchecks) (22.3.0)\n",
      "Requirement already satisfied: pywin32>=1.0 in c:\\users\\sarwa\\anaconda3\\lib\\site-packages (from jupyter-core>=4.6.0->jupyter-client<8.0->ipykernel>=5.3.0->deepchecks) (302)\n",
      "Requirement already satisfied: pillow>=6.2.0 in c:\\users\\sarwa\\anaconda3\\lib\\site-packages (from matplotlib>=3.3.4->deepchecks) (9.0.1)\n",
      "Requirement already satisfied: cycler>=0.10 in c:\\users\\sarwa\\anaconda3\\lib\\site-packages (from matplotlib>=3.3.4->deepchecks) (0.11.0)\n",
      "Requirement already satisfied: pyparsing>=2.2.1 in c:\\users\\sarwa\\anaconda3\\lib\\site-packages (from matplotlib>=3.3.4->deepchecks) (3.0.4)\n",
      "Requirement already satisfied: packaging>=20.0 in c:\\users\\sarwa\\anaconda3\\lib\\site-packages (from matplotlib>=3.3.4->deepchecks) (21.3)\n",
      "Requirement already satisfied: fonttools>=4.22.0 in c:\\users\\sarwa\\anaconda3\\lib\\site-packages (from matplotlib>=3.3.4->deepchecks) (4.25.0)\n",
      "Requirement already satisfied: kiwisolver>=1.0.1 in c:\\users\\sarwa\\anaconda3\\lib\\site-packages (from matplotlib>=3.3.4->deepchecks) (1.3.2)\n",
      "Requirement already satisfied: jsonschema>=2.6 in c:\\users\\sarwa\\anaconda3\\lib\\site-packages (from nbformat>=4.2.0->ipywidgets<8,>=7.6.5->deepchecks) (4.4.0)\n",
      "Requirement already satisfied: fastjsonschema in c:\\users\\sarwa\\anaconda3\\lib\\site-packages (from nbformat>=4.2.0->ipywidgets<8,>=7.6.5->deepchecks) (2.15.1)\n",
      "Requirement already satisfied: attrs>=17.4.0 in c:\\users\\sarwa\\anaconda3\\lib\\site-packages (from jsonschema>=2.6->nbformat>=4.2.0->ipywidgets<8,>=7.6.5->deepchecks) (21.4.0)\n",
      "Requirement already satisfied: pyrsistent!=0.17.0,!=0.17.1,!=0.17.2,>=0.14.0 in c:\\users\\sarwa\\anaconda3\\lib\\site-packages (from jsonschema>=2.6->nbformat>=4.2.0->ipywidgets<8,>=7.6.5->deepchecks) (0.18.0)\n",
      "Requirement already satisfied: pytz>=2020.1 in c:\\users\\sarwa\\anaconda3\\lib\\site-packages (from pandas>=1.1.5->deepchecks) (2021.3)\n",
      "Requirement already satisfied: wcwidth in c:\\users\\sarwa\\anaconda3\\lib\\site-packages (from prompt-toolkit!=3.0.0,!=3.0.1,<3.1.0,>=2.0.0->ipython<8,>=7.15.0->deepchecks) (0.2.5)\n",
      "Requirement already satisfied: python-utils in c:\\users\\sarwa\\anaconda3\\lib\\site-packages (from PyNomaly>=0.3.3->deepchecks) (3.3.3)\n",
      "Requirement already satisfied: threadpoolctl>=2.0.0 in c:\\users\\sarwa\\anaconda3\\lib\\site-packages (from scikit-learn>=0.23.2->deepchecks) (2.2.0)\n",
      "Requirement already satisfied: joblib>=0.11 in c:\\users\\sarwa\\anaconda3\\lib\\site-packages (from scikit-learn>=0.23.2->deepchecks) (1.1.0)\n",
      "Requirement already satisfied: notebook>=4.4.1 in c:\\users\\sarwa\\anaconda3\\lib\\site-packages (from widgetsnbextension~=3.5.0->ipywidgets<8,>=7.6.5->deepchecks) (6.4.8)\n",
      "Requirement already satisfied: terminado>=0.8.3 in c:\\users\\sarwa\\anaconda3\\lib\\site-packages (from notebook>=4.4.1->widgetsnbextension~=3.5.0->ipywidgets<8,>=7.6.5->deepchecks) (0.13.1)\n",
      "Requirement already satisfied: nbconvert in c:\\users\\sarwa\\anaconda3\\lib\\site-packages (from notebook>=4.4.1->widgetsnbextension~=3.5.0->ipywidgets<8,>=7.6.5->deepchecks) (6.4.4)\n",
      "Requirement already satisfied: prometheus-client in c:\\users\\sarwa\\anaconda3\\lib\\site-packages (from notebook>=4.4.1->widgetsnbextension~=3.5.0->ipywidgets<8,>=7.6.5->deepchecks) (0.13.1)\n",
      "Requirement already satisfied: Send2Trash>=1.8.0 in c:\\users\\sarwa\\anaconda3\\lib\\site-packages (from notebook>=4.4.1->widgetsnbextension~=3.5.0->ipywidgets<8,>=7.6.5->deepchecks) (1.8.0)\n",
      "Requirement already satisfied: argon2-cffi in c:\\users\\sarwa\\anaconda3\\lib\\site-packages (from notebook>=4.4.1->widgetsnbextension~=3.5.0->ipywidgets<8,>=7.6.5->deepchecks) (21.3.0)\n",
      "Requirement already satisfied: jinja2 in c:\\users\\sarwa\\anaconda3\\lib\\site-packages (from notebook>=4.4.1->widgetsnbextension~=3.5.0->ipywidgets<8,>=7.6.5->deepchecks) (2.11.3)\n",
      "Requirement already satisfied: pywinpty>=1.1.0 in c:\\users\\sarwa\\anaconda3\\lib\\site-packages (from terminado>=0.8.3->notebook>=4.4.1->widgetsnbextension~=3.5.0->ipywidgets<8,>=7.6.5->deepchecks) (2.0.2)\n",
      "Requirement already satisfied: argon2-cffi-bindings in c:\\users\\sarwa\\anaconda3\\lib\\site-packages (from argon2-cffi->notebook>=4.4.1->widgetsnbextension~=3.5.0->ipywidgets<8,>=7.6.5->deepchecks) (21.2.0)\n",
      "Requirement already satisfied: cffi>=1.0.1 in c:\\users\\sarwa\\anaconda3\\lib\\site-packages (from argon2-cffi-bindings->argon2-cffi->notebook>=4.4.1->widgetsnbextension~=3.5.0->ipywidgets<8,>=7.6.5->deepchecks) (1.15.0)\n",
      "Requirement already satisfied: pycparser in c:\\users\\sarwa\\anaconda3\\lib\\site-packages (from cffi>=1.0.1->argon2-cffi-bindings->argon2-cffi->notebook>=4.4.1->widgetsnbextension~=3.5.0->ipywidgets<8,>=7.6.5->deepchecks) (2.21)\n",
      "Requirement already satisfied: MarkupSafe>=0.23 in c:\\users\\sarwa\\anaconda3\\lib\\site-packages (from jinja2->notebook>=4.4.1->widgetsnbextension~=3.5.0->ipywidgets<8,>=7.6.5->deepchecks) (2.0.1)\n",
      "Requirement already satisfied: testpath in c:\\users\\sarwa\\anaconda3\\lib\\site-packages (from nbconvert->notebook>=4.4.1->widgetsnbextension~=3.5.0->ipywidgets<8,>=7.6.5->deepchecks) (0.5.0)\n",
      "Requirement already satisfied: defusedxml in c:\\users\\sarwa\\anaconda3\\lib\\site-packages (from nbconvert->notebook>=4.4.1->widgetsnbextension~=3.5.0->ipywidgets<8,>=7.6.5->deepchecks) (0.7.1)\n",
      "Requirement already satisfied: jupyterlab-pygments in c:\\users\\sarwa\\anaconda3\\lib\\site-packages (from nbconvert->notebook>=4.4.1->widgetsnbextension~=3.5.0->ipywidgets<8,>=7.6.5->deepchecks) (0.1.2)\n",
      "Requirement already satisfied: nbclient<0.6.0,>=0.5.0 in c:\\users\\sarwa\\anaconda3\\lib\\site-packages (from nbconvert->notebook>=4.4.1->widgetsnbextension~=3.5.0->ipywidgets<8,>=7.6.5->deepchecks) (0.5.13)\n",
      "Requirement already satisfied: bleach in c:\\users\\sarwa\\anaconda3\\lib\\site-packages (from nbconvert->notebook>=4.4.1->widgetsnbextension~=3.5.0->ipywidgets<8,>=7.6.5->deepchecks) (4.1.0)\n",
      "Requirement already satisfied: beautifulsoup4 in c:\\users\\sarwa\\anaconda3\\lib\\site-packages (from nbconvert->notebook>=4.4.1->widgetsnbextension~=3.5.0->ipywidgets<8,>=7.6.5->deepchecks) (4.11.1)\n",
      "Requirement already satisfied: entrypoints>=0.2.2 in c:\\users\\sarwa\\anaconda3\\lib\\site-packages (from nbconvert->notebook>=4.4.1->widgetsnbextension~=3.5.0->ipywidgets<8,>=7.6.5->deepchecks) (0.4)\n",
      "Requirement already satisfied: pandocfilters>=1.4.1 in c:\\users\\sarwa\\anaconda3\\lib\\site-packages (from nbconvert->notebook>=4.4.1->widgetsnbextension~=3.5.0->ipywidgets<8,>=7.6.5->deepchecks) (1.5.0)\n",
      "Requirement already satisfied: mistune<2,>=0.8.1 in c:\\users\\sarwa\\anaconda3\\lib\\site-packages (from nbconvert->notebook>=4.4.1->widgetsnbextension~=3.5.0->ipywidgets<8,>=7.6.5->deepchecks) (0.8.4)\n",
      "Requirement already satisfied: soupsieve>1.2 in c:\\users\\sarwa\\anaconda3\\lib\\site-packages (from beautifulsoup4->nbconvert->notebook>=4.4.1->widgetsnbextension~=3.5.0->ipywidgets<8,>=7.6.5->deepchecks) (2.3.1)\n",
      "Requirement already satisfied: webencodings in c:\\users\\sarwa\\anaconda3\\lib\\site-packages (from bleach->nbconvert->notebook>=4.4.1->widgetsnbextension~=3.5.0->ipywidgets<8,>=7.6.5->deepchecks) (0.5.1)\n"
     ]
    }
   ],
   "source": [
    "pip install deepchecks --upgrade"
   ]
  },
  {
   "cell_type": "code",
   "execution_count": 8,
   "metadata": {},
   "outputs": [
    {
     "name": "stdout",
     "output_type": "stream",
     "text": [
      "Requirement already satisfied: deepchecks[vision] in c:\\users\\sarwa\\anaconda3\\lib\\site-packages (0.8.3)\n",
      "Requirement already satisfied: plotly==5.5.0 in c:\\users\\sarwa\\anaconda3\\lib\\site-packages (from deepchecks[vision]) (5.5.0)\n",
      "Requirement already satisfied: statsmodels>=0.11.0 in c:\\users\\sarwa\\anaconda3\\lib\\site-packages (from deepchecks[vision]) (0.13.2)\n",
      "Requirement already satisfied: ipywidgets<8,>=7.6.5 in c:\\users\\sarwa\\anaconda3\\lib\\site-packages (from deepchecks[vision]) (7.6.5)\n",
      "Requirement already satisfied: scipy>=1.4.1 in c:\\users\\sarwa\\anaconda3\\lib\\site-packages (from deepchecks[vision]) (1.7.3)\n",
      "Requirement already satisfied: PyNomaly>=0.3.3 in c:\\users\\sarwa\\anaconda3\\lib\\site-packages (from deepchecks[vision]) (0.3.3)\n",
      "Requirement already satisfied: pandas>=1.1.5 in c:\\users\\sarwa\\anaconda3\\lib\\site-packages (from deepchecks[vision]) (1.4.2)\n",
      "Requirement already satisfied: typing-extensions>=3.7.4.3 in c:\\users\\sarwa\\anaconda3\\lib\\site-packages (from deepchecks[vision]) (4.1.1)\n",
      "Requirement already satisfied: matplotlib>=3.3.4 in c:\\users\\sarwa\\anaconda3\\lib\\site-packages (from deepchecks[vision]) (3.5.1)\n",
      "Requirement already satisfied: ipython<8,>=7.15.0 in c:\\users\\sarwa\\anaconda3\\lib\\site-packages (from deepchecks[vision]) (7.34.0)\n",
      "Requirement already satisfied: numpy>=1.19 in c:\\users\\sarwa\\anaconda3\\lib\\site-packages (from deepchecks[vision]) (1.21.5)\n",
      "Requirement already satisfied: scikit-learn>=0.23.2 in c:\\users\\sarwa\\anaconda3\\lib\\site-packages (from deepchecks[vision]) (1.0.2)\n",
      "Requirement already satisfied: tqdm>=4.62.3 in c:\\users\\sarwa\\anaconda3\\lib\\site-packages (from deepchecks[vision]) (4.64.0)\n",
      "Requirement already satisfied: category-encoders>=2.3.0 in c:\\users\\sarwa\\anaconda3\\lib\\site-packages (from deepchecks[vision]) (2.5.0)\n",
      "Requirement already satisfied: jsonpickle>=2 in c:\\users\\sarwa\\anaconda3\\lib\\site-packages (from deepchecks[vision]) (2.2.0)\n",
      "Requirement already satisfied: ipykernel>=5.3.0 in c:\\users\\sarwa\\anaconda3\\lib\\site-packages (from deepchecks[vision]) (6.9.1)\n",
      "Requirement already satisfied: imgaug>=0.4.0 in c:\\users\\sarwa\\anaconda3\\lib\\site-packages (from deepchecks[vision]) (0.4.0)\n",
      "Requirement already satisfied: pytorch-ignite>=0.4.8 in c:\\users\\sarwa\\anaconda3\\lib\\site-packages (from deepchecks[vision]) (0.4.10)\n",
      "Requirement already satisfied: imagehash>=4.0.0 in c:\\users\\sarwa\\anaconda3\\lib\\site-packages (from deepchecks[vision]) (4.3.0)\n",
      "Requirement already satisfied: seaborn>=0.1.0 in c:\\users\\sarwa\\anaconda3\\lib\\site-packages (from deepchecks[vision]) (0.11.2)\n",
      "Requirement already satisfied: opencv-python>=4.5.5.62 in c:\\users\\sarwa\\anaconda3\\lib\\site-packages (from deepchecks[vision]) (4.6.0.66)\n",
      "Requirement already satisfied: albumentations>=1.1.0 in c:\\users\\sarwa\\anaconda3\\lib\\site-packages (from deepchecks[vision]) (1.2.1)\n",
      "Requirement already satisfied: requests>=2.22.0 in c:\\users\\sarwa\\anaconda3\\lib\\site-packages (from deepchecks[vision]) (2.27.1)\n",
      "Requirement already satisfied: six in c:\\users\\sarwa\\anaconda3\\lib\\site-packages (from plotly==5.5.0->deepchecks[vision]) (1.16.0)\n",
      "Requirement already satisfied: tenacity>=6.2.0 in c:\\users\\sarwa\\anaconda3\\lib\\site-packages (from plotly==5.5.0->deepchecks[vision]) (8.0.1)\n",
      "Requirement already satisfied: scikit-image>=0.16.1 in c:\\users\\sarwa\\anaconda3\\lib\\site-packages (from albumentations>=1.1.0->deepchecks[vision]) (0.19.2)\n",
      "Requirement already satisfied: opencv-python-headless>=4.1.1 in c:\\users\\sarwa\\anaconda3\\lib\\site-packages (from albumentations>=1.1.0->deepchecks[vision]) (4.6.0.66)\n",
      "Requirement already satisfied: PyYAML in c:\\users\\sarwa\\anaconda3\\lib\\site-packages (from albumentations>=1.1.0->deepchecks[vision]) (6.0)\n",
      "Requirement already satisfied: qudida>=0.0.4 in c:\\users\\sarwa\\anaconda3\\lib\\site-packages (from albumentations>=1.1.0->deepchecks[vision]) (0.0.4)\n",
      "Requirement already satisfied: patsy>=0.5.1 in c:\\users\\sarwa\\anaconda3\\lib\\site-packages (from category-encoders>=2.3.0->deepchecks[vision]) (0.5.2)\n",
      "Requirement already satisfied: pillow in c:\\users\\sarwa\\anaconda3\\lib\\site-packages (from imagehash>=4.0.0->deepchecks[vision]) (9.0.1)\n",
      "Requirement already satisfied: PyWavelets in c:\\users\\sarwa\\anaconda3\\lib\\site-packages (from imagehash>=4.0.0->deepchecks[vision]) (1.3.0)\n",
      "Requirement already satisfied: Shapely in c:\\users\\sarwa\\anaconda3\\lib\\site-packages (from imgaug>=0.4.0->deepchecks[vision]) (1.8.4)\n",
      "Requirement already satisfied: imageio in c:\\users\\sarwa\\anaconda3\\lib\\site-packages (from imgaug>=0.4.0->deepchecks[vision]) (2.9.0)\n",
      "Requirement already satisfied: jupyter-client<8.0 in c:\\users\\sarwa\\anaconda3\\lib\\site-packages (from ipykernel>=5.3.0->deepchecks[vision]) (6.1.12)\n",
      "Requirement already satisfied: traitlets<6.0,>=5.1.0 in c:\\users\\sarwa\\anaconda3\\lib\\site-packages (from ipykernel>=5.3.0->deepchecks[vision]) (5.1.1)\n",
      "Requirement already satisfied: tornado<7.0,>=4.2 in c:\\users\\sarwa\\anaconda3\\lib\\site-packages (from ipykernel>=5.3.0->deepchecks[vision]) (6.1)\n",
      "Requirement already satisfied: debugpy<2.0,>=1.0.0 in c:\\users\\sarwa\\anaconda3\\lib\\site-packages (from ipykernel>=5.3.0->deepchecks[vision]) (1.5.1)\n",
      "Requirement already satisfied: nest-asyncio in c:\\users\\sarwa\\anaconda3\\lib\\site-packages (from ipykernel>=5.3.0->deepchecks[vision]) (1.5.5)\n",
      "Requirement already satisfied: matplotlib-inline<0.2.0,>=0.1.0 in c:\\users\\sarwa\\anaconda3\\lib\\site-packages (from ipykernel>=5.3.0->deepchecks[vision]) (0.1.2)\n",
      "Requirement already satisfied: jedi>=0.16 in c:\\users\\sarwa\\anaconda3\\lib\\site-packages (from ipython<8,>=7.15.0->deepchecks[vision]) (0.18.1)\n",
      "Requirement already satisfied: colorama in c:\\users\\sarwa\\anaconda3\\lib\\site-packages (from ipython<8,>=7.15.0->deepchecks[vision]) (0.4.4)\n",
      "Requirement already satisfied: decorator in c:\\users\\sarwa\\anaconda3\\lib\\site-packages (from ipython<8,>=7.15.0->deepchecks[vision]) (5.1.1)\n",
      "Requirement already satisfied: prompt-toolkit!=3.0.0,!=3.0.1,<3.1.0,>=2.0.0 in c:\\users\\sarwa\\anaconda3\\lib\\site-packages (from ipython<8,>=7.15.0->deepchecks[vision]) (3.0.20)\n",
      "Requirement already satisfied: backcall in c:\\users\\sarwa\\anaconda3\\lib\\site-packages (from ipython<8,>=7.15.0->deepchecks[vision]) (0.2.0)\n",
      "Requirement already satisfied: pygments in c:\\users\\sarwa\\anaconda3\\lib\\site-packages (from ipython<8,>=7.15.0->deepchecks[vision]) (2.11.2)\n",
      "Requirement already satisfied: setuptools>=18.5 in c:\\users\\sarwa\\anaconda3\\lib\\site-packages (from ipython<8,>=7.15.0->deepchecks[vision]) (61.2.0)\n",
      "Requirement already satisfied: pickleshare in c:\\users\\sarwa\\anaconda3\\lib\\site-packages (from ipython<8,>=7.15.0->deepchecks[vision]) (0.7.5)\n",
      "Requirement already satisfied: widgetsnbextension~=3.5.0 in c:\\users\\sarwa\\anaconda3\\lib\\site-packages (from ipywidgets<8,>=7.6.5->deepchecks[vision]) (3.5.2)\n",
      "Requirement already satisfied: nbformat>=4.2.0 in c:\\users\\sarwa\\anaconda3\\lib\\site-packages (from ipywidgets<8,>=7.6.5->deepchecks[vision]) (5.3.0)\n",
      "Requirement already satisfied: ipython-genutils~=0.2.0 in c:\\users\\sarwa\\anaconda3\\lib\\site-packages (from ipywidgets<8,>=7.6.5->deepchecks[vision]) (0.2.0)\n",
      "Requirement already satisfied: jupyterlab-widgets>=1.0.0 in c:\\users\\sarwa\\anaconda3\\lib\\site-packages (from ipywidgets<8,>=7.6.5->deepchecks[vision]) (1.0.0)\n",
      "Requirement already satisfied: parso<0.9.0,>=0.8.0 in c:\\users\\sarwa\\anaconda3\\lib\\site-packages (from jedi>=0.16->ipython<8,>=7.15.0->deepchecks[vision]) (0.8.3)\n",
      "Requirement already satisfied: pyzmq>=13 in c:\\users\\sarwa\\anaconda3\\lib\\site-packages (from jupyter-client<8.0->ipykernel>=5.3.0->deepchecks[vision]) (22.3.0)\n",
      "Requirement already satisfied: jupyter-core>=4.6.0 in c:\\users\\sarwa\\anaconda3\\lib\\site-packages (from jupyter-client<8.0->ipykernel>=5.3.0->deepchecks[vision]) (4.9.2)\n",
      "Requirement already satisfied: python-dateutil>=2.1 in c:\\users\\sarwa\\anaconda3\\lib\\site-packages (from jupyter-client<8.0->ipykernel>=5.3.0->deepchecks[vision]) (2.8.2)\n",
      "Requirement already satisfied: pywin32>=1.0 in c:\\users\\sarwa\\anaconda3\\lib\\site-packages (from jupyter-core>=4.6.0->jupyter-client<8.0->ipykernel>=5.3.0->deepchecks[vision]) (302)\n",
      "Requirement already satisfied: cycler>=0.10 in c:\\users\\sarwa\\anaconda3\\lib\\site-packages (from matplotlib>=3.3.4->deepchecks[vision]) (0.11.0)\n",
      "Requirement already satisfied: kiwisolver>=1.0.1 in c:\\users\\sarwa\\anaconda3\\lib\\site-packages (from matplotlib>=3.3.4->deepchecks[vision]) (1.3.2)\n",
      "Requirement already satisfied: pyparsing>=2.2.1 in c:\\users\\sarwa\\anaconda3\\lib\\site-packages (from matplotlib>=3.3.4->deepchecks[vision]) (3.0.4)\n",
      "Requirement already satisfied: packaging>=20.0 in c:\\users\\sarwa\\anaconda3\\lib\\site-packages (from matplotlib>=3.3.4->deepchecks[vision]) (21.3)\n",
      "Requirement already satisfied: fonttools>=4.22.0 in c:\\users\\sarwa\\anaconda3\\lib\\site-packages (from matplotlib>=3.3.4->deepchecks[vision]) (4.25.0)\n",
      "Requirement already satisfied: jsonschema>=2.6 in c:\\users\\sarwa\\anaconda3\\lib\\site-packages (from nbformat>=4.2.0->ipywidgets<8,>=7.6.5->deepchecks[vision]) (4.4.0)\n",
      "Requirement already satisfied: fastjsonschema in c:\\users\\sarwa\\anaconda3\\lib\\site-packages (from nbformat>=4.2.0->ipywidgets<8,>=7.6.5->deepchecks[vision]) (2.15.1)\n",
      "Requirement already satisfied: attrs>=17.4.0 in c:\\users\\sarwa\\anaconda3\\lib\\site-packages (from jsonschema>=2.6->nbformat>=4.2.0->ipywidgets<8,>=7.6.5->deepchecks[vision]) (21.4.0)\n",
      "Requirement already satisfied: pyrsistent!=0.17.0,!=0.17.1,!=0.17.2,>=0.14.0 in c:\\users\\sarwa\\anaconda3\\lib\\site-packages (from jsonschema>=2.6->nbformat>=4.2.0->ipywidgets<8,>=7.6.5->deepchecks[vision]) (0.18.0)\n",
      "Requirement already satisfied: pytz>=2020.1 in c:\\users\\sarwa\\anaconda3\\lib\\site-packages (from pandas>=1.1.5->deepchecks[vision]) (2021.3)\n",
      "Requirement already satisfied: wcwidth in c:\\users\\sarwa\\anaconda3\\lib\\site-packages (from prompt-toolkit!=3.0.0,!=3.0.1,<3.1.0,>=2.0.0->ipython<8,>=7.15.0->deepchecks[vision]) (0.2.5)\n",
      "Requirement already satisfied: python-utils in c:\\users\\sarwa\\anaconda3\\lib\\site-packages (from PyNomaly>=0.3.3->deepchecks[vision]) (3.3.3)\n",
      "Requirement already satisfied: torch<2,>=1.3 in c:\\users\\sarwa\\anaconda3\\lib\\site-packages (from pytorch-ignite>=0.4.8->deepchecks[vision]) (1.12.1)\n",
      "Requirement already satisfied: idna<4,>=2.5 in c:\\users\\sarwa\\anaconda3\\lib\\site-packages (from requests>=2.22.0->deepchecks[vision]) (3.3)\n",
      "Requirement already satisfied: charset-normalizer~=2.0.0 in c:\\users\\sarwa\\anaconda3\\lib\\site-packages (from requests>=2.22.0->deepchecks[vision]) (2.0.4)\n",
      "Requirement already satisfied: certifi>=2017.4.17 in c:\\users\\sarwa\\anaconda3\\lib\\site-packages (from requests>=2.22.0->deepchecks[vision]) (2021.10.8)\n",
      "Requirement already satisfied: urllib3<1.27,>=1.21.1 in c:\\users\\sarwa\\anaconda3\\lib\\site-packages (from requests>=2.22.0->deepchecks[vision]) (1.26.9)\n",
      "Requirement already satisfied: networkx>=2.2 in c:\\users\\sarwa\\anaconda3\\lib\\site-packages (from scikit-image>=0.16.1->albumentations>=1.1.0->deepchecks[vision]) (2.7.1)\n",
      "Requirement already satisfied: tifffile>=2019.7.26 in c:\\users\\sarwa\\anaconda3\\lib\\site-packages (from scikit-image>=0.16.1->albumentations>=1.1.0->deepchecks[vision]) (2021.7.2)\n",
      "Requirement already satisfied: joblib>=0.11 in c:\\users\\sarwa\\anaconda3\\lib\\site-packages (from scikit-learn>=0.23.2->deepchecks[vision]) (1.1.0)\n",
      "Requirement already satisfied: threadpoolctl>=2.0.0 in c:\\users\\sarwa\\anaconda3\\lib\\site-packages (from scikit-learn>=0.23.2->deepchecks[vision]) (2.2.0)\n",
      "Requirement already satisfied: notebook>=4.4.1 in c:\\users\\sarwa\\anaconda3\\lib\\site-packages (from widgetsnbextension~=3.5.0->ipywidgets<8,>=7.6.5->deepchecks[vision]) (6.4.8)\n",
      "Requirement already satisfied: nbconvert in c:\\users\\sarwa\\anaconda3\\lib\\site-packages (from notebook>=4.4.1->widgetsnbextension~=3.5.0->ipywidgets<8,>=7.6.5->deepchecks[vision]) (6.4.4)\n",
      "Requirement already satisfied: terminado>=0.8.3 in c:\\users\\sarwa\\anaconda3\\lib\\site-packages (from notebook>=4.4.1->widgetsnbextension~=3.5.0->ipywidgets<8,>=7.6.5->deepchecks[vision]) (0.13.1)\n",
      "Requirement already satisfied: argon2-cffi in c:\\users\\sarwa\\anaconda3\\lib\\site-packages (from notebook>=4.4.1->widgetsnbextension~=3.5.0->ipywidgets<8,>=7.6.5->deepchecks[vision]) (21.3.0)\n",
      "Requirement already satisfied: prometheus-client in c:\\users\\sarwa\\anaconda3\\lib\\site-packages (from notebook>=4.4.1->widgetsnbextension~=3.5.0->ipywidgets<8,>=7.6.5->deepchecks[vision]) (0.13.1)\n",
      "Requirement already satisfied: Send2Trash>=1.8.0 in c:\\users\\sarwa\\anaconda3\\lib\\site-packages (from notebook>=4.4.1->widgetsnbextension~=3.5.0->ipywidgets<8,>=7.6.5->deepchecks[vision]) (1.8.0)\n",
      "Requirement already satisfied: jinja2 in c:\\users\\sarwa\\anaconda3\\lib\\site-packages (from notebook>=4.4.1->widgetsnbextension~=3.5.0->ipywidgets<8,>=7.6.5->deepchecks[vision]) (2.11.3)\n",
      "Requirement already satisfied: pywinpty>=1.1.0 in c:\\users\\sarwa\\anaconda3\\lib\\site-packages (from terminado>=0.8.3->notebook>=4.4.1->widgetsnbextension~=3.5.0->ipywidgets<8,>=7.6.5->deepchecks[vision]) (2.0.2)\n",
      "Requirement already satisfied: argon2-cffi-bindings in c:\\users\\sarwa\\anaconda3\\lib\\site-packages (from argon2-cffi->notebook>=4.4.1->widgetsnbextension~=3.5.0->ipywidgets<8,>=7.6.5->deepchecks[vision]) (21.2.0)\n",
      "Requirement already satisfied: cffi>=1.0.1 in c:\\users\\sarwa\\anaconda3\\lib\\site-packages (from argon2-cffi-bindings->argon2-cffi->notebook>=4.4.1->widgetsnbextension~=3.5.0->ipywidgets<8,>=7.6.5->deepchecks[vision]) (1.15.0)\n",
      "Requirement already satisfied: pycparser in c:\\users\\sarwa\\anaconda3\\lib\\site-packages (from cffi>=1.0.1->argon2-cffi-bindings->argon2-cffi->notebook>=4.4.1->widgetsnbextension~=3.5.0->ipywidgets<8,>=7.6.5->deepchecks[vision]) (2.21)\n",
      "Requirement already satisfied: MarkupSafe>=0.23 in c:\\users\\sarwa\\anaconda3\\lib\\site-packages (from jinja2->notebook>=4.4.1->widgetsnbextension~=3.5.0->ipywidgets<8,>=7.6.5->deepchecks[vision]) (2.0.1)\n",
      "Requirement already satisfied: mistune<2,>=0.8.1 in c:\\users\\sarwa\\anaconda3\\lib\\site-packages (from nbconvert->notebook>=4.4.1->widgetsnbextension~=3.5.0->ipywidgets<8,>=7.6.5->deepchecks[vision]) (0.8.4)\n",
      "Requirement already satisfied: jupyterlab-pygments in c:\\users\\sarwa\\anaconda3\\lib\\site-packages (from nbconvert->notebook>=4.4.1->widgetsnbextension~=3.5.0->ipywidgets<8,>=7.6.5->deepchecks[vision]) (0.1.2)\n",
      "Requirement already satisfied: defusedxml in c:\\users\\sarwa\\anaconda3\\lib\\site-packages (from nbconvert->notebook>=4.4.1->widgetsnbextension~=3.5.0->ipywidgets<8,>=7.6.5->deepchecks[vision]) (0.7.1)\n",
      "Requirement already satisfied: testpath in c:\\users\\sarwa\\anaconda3\\lib\\site-packages (from nbconvert->notebook>=4.4.1->widgetsnbextension~=3.5.0->ipywidgets<8,>=7.6.5->deepchecks[vision]) (0.5.0)\n",
      "Requirement already satisfied: bleach in c:\\users\\sarwa\\anaconda3\\lib\\site-packages (from nbconvert->notebook>=4.4.1->widgetsnbextension~=3.5.0->ipywidgets<8,>=7.6.5->deepchecks[vision]) (4.1.0)\n",
      "Requirement already satisfied: nbclient<0.6.0,>=0.5.0 in c:\\users\\sarwa\\anaconda3\\lib\\site-packages (from nbconvert->notebook>=4.4.1->widgetsnbextension~=3.5.0->ipywidgets<8,>=7.6.5->deepchecks[vision]) (0.5.13)\n",
      "Requirement already satisfied: pandocfilters>=1.4.1 in c:\\users\\sarwa\\anaconda3\\lib\\site-packages (from nbconvert->notebook>=4.4.1->widgetsnbextension~=3.5.0->ipywidgets<8,>=7.6.5->deepchecks[vision]) (1.5.0)\n",
      "Requirement already satisfied: beautifulsoup4 in c:\\users\\sarwa\\anaconda3\\lib\\site-packages (from nbconvert->notebook>=4.4.1->widgetsnbextension~=3.5.0->ipywidgets<8,>=7.6.5->deepchecks[vision]) (4.11.1)\n",
      "Requirement already satisfied: entrypoints>=0.2.2 in c:\\users\\sarwa\\anaconda3\\lib\\site-packages (from nbconvert->notebook>=4.4.1->widgetsnbextension~=3.5.0->ipywidgets<8,>=7.6.5->deepchecks[vision]) (0.4)\n",
      "Requirement already satisfied: soupsieve>1.2 in c:\\users\\sarwa\\anaconda3\\lib\\site-packages (from beautifulsoup4->nbconvert->notebook>=4.4.1->widgetsnbextension~=3.5.0->ipywidgets<8,>=7.6.5->deepchecks[vision]) (2.3.1)\n",
      "Requirement already satisfied: webencodings in c:\\users\\sarwa\\anaconda3\\lib\\site-packages (from bleach->nbconvert->notebook>=4.4.1->widgetsnbextension~=3.5.0->ipywidgets<8,>=7.6.5->deepchecks[vision]) (0.5.1)\n",
      "Note: you may need to restart the kernel to use updated packages.\n"
     ]
    }
   ],
   "source": [
    "pip install \"deepchecks[vision]\" --upgrade"
   ]
  },
  {
   "cell_type": "code",
   "execution_count": 9,
   "metadata": {},
   "outputs": [
    {
     "ename": "ModuleNotFoundError",
     "evalue": "No module named 'torchvision'",
     "output_type": "error",
     "traceback": [
      "\u001b[1;31m---------------------------------------------------------------------------\u001b[0m",
      "\u001b[1;31mModuleNotFoundError\u001b[0m                       Traceback (most recent call last)",
      "\u001b[1;32m~\\AppData\\Local\\Temp\\ipykernel_44928\\3493328663.py\u001b[0m in \u001b[0;36m<cell line: 1>\u001b[1;34m()\u001b[0m\n\u001b[1;32m----> 1\u001b[1;33m \u001b[1;32mfrom\u001b[0m \u001b[0mdeepchecks\u001b[0m\u001b[1;33m.\u001b[0m\u001b[0mvision\u001b[0m\u001b[1;33m.\u001b[0m\u001b[0mchecks\u001b[0m \u001b[1;32mimport\u001b[0m \u001b[0mClassPerformance\u001b[0m\u001b[1;33m\u001b[0m\u001b[1;33m\u001b[0m\u001b[0m\n\u001b[0m\u001b[0;32m      2\u001b[0m \u001b[1;32mfrom\u001b[0m \u001b[0mdeepchecks\u001b[0m\u001b[1;33m.\u001b[0m\u001b[0mvision\u001b[0m\u001b[1;33m.\u001b[0m\u001b[0mdatasets\u001b[0m\u001b[1;33m.\u001b[0m\u001b[0mclassification\u001b[0m \u001b[1;32mimport\u001b[0m \u001b[0mmnist\u001b[0m\u001b[1;33m\u001b[0m\u001b[1;33m\u001b[0m\u001b[0m\n\u001b[0;32m      3\u001b[0m \u001b[0mmnist_model\u001b[0m \u001b[1;33m=\u001b[0m \u001b[0mmnist\u001b[0m\u001b[1;33m.\u001b[0m\u001b[0mload_model\u001b[0m\u001b[1;33m(\u001b[0m\u001b[1;33m)\u001b[0m\u001b[1;33m\u001b[0m\u001b[1;33m\u001b[0m\u001b[0m\n\u001b[0;32m      4\u001b[0m \u001b[0mtrain_ds\u001b[0m \u001b[1;33m=\u001b[0m \u001b[0mmnist\u001b[0m\u001b[1;33m.\u001b[0m\u001b[0mload_dataset\u001b[0m\u001b[1;33m(\u001b[0m\u001b[0mtrain\u001b[0m \u001b[1;33m=\u001b[0m \u001b[1;32mTrue\u001b[0m\u001b[1;33m,\u001b[0m \u001b[0mobject_type\u001b[0m \u001b[1;33m=\u001b[0m \u001b[1;34m'VisionData'\u001b[0m\u001b[1;33m)\u001b[0m\u001b[1;33m\u001b[0m\u001b[1;33m\u001b[0m\u001b[0m\n\u001b[0;32m      5\u001b[0m \u001b[0mtest_ds\u001b[0m \u001b[1;33m=\u001b[0m \u001b[0mmnist\u001b[0m\u001b[1;33m.\u001b[0m\u001b[0mload_dataset\u001b[0m\u001b[1;33m(\u001b[0m\u001b[0mtrain\u001b[0m \u001b[1;33m=\u001b[0m \u001b[1;32mFalse\u001b[0m\u001b[1;33m,\u001b[0m \u001b[0mobject_type\u001b[0m \u001b[1;33m=\u001b[0m \u001b[1;34m'VisionData'\u001b[0m\u001b[1;33m)\u001b[0m\u001b[1;33m\u001b[0m\u001b[1;33m\u001b[0m\u001b[0m\n",
      "\u001b[1;32mc:\\Users\\sarwa\\anaconda3\\lib\\site-packages\\deepchecks\\vision\\__init__.py\u001b[0m in \u001b[0;36m<module>\u001b[1;34m\u001b[0m\n\u001b[0;32m     10\u001b[0m \u001b[1;31m#\u001b[0m\u001b[1;33m\u001b[0m\u001b[1;33m\u001b[0m\u001b[0m\n\u001b[0;32m     11\u001b[0m \u001b[1;34m\"\"\"Package for vision functionality.\"\"\"\u001b[0m\u001b[1;33m\u001b[0m\u001b[1;33m\u001b[0m\u001b[0m\n\u001b[1;32m---> 12\u001b[1;33m \u001b[1;32mfrom\u001b[0m \u001b[1;33m.\u001b[0m\u001b[0mbase_checks\u001b[0m \u001b[1;32mimport\u001b[0m \u001b[0mModelOnlyCheck\u001b[0m\u001b[1;33m,\u001b[0m \u001b[0mSingleDatasetCheck\u001b[0m\u001b[1;33m,\u001b[0m \u001b[0mTrainTestCheck\u001b[0m\u001b[1;33m\u001b[0m\u001b[1;33m\u001b[0m\u001b[0m\n\u001b[0m\u001b[0;32m     13\u001b[0m \u001b[1;32mfrom\u001b[0m \u001b[1;33m.\u001b[0m\u001b[0mbatch_wrapper\u001b[0m \u001b[1;32mimport\u001b[0m \u001b[0mBatch\u001b[0m\u001b[1;33m\u001b[0m\u001b[1;33m\u001b[0m\u001b[0m\n\u001b[0;32m     14\u001b[0m \u001b[1;32mfrom\u001b[0m \u001b[1;33m.\u001b[0m\u001b[0mclassification_data\u001b[0m \u001b[1;32mimport\u001b[0m \u001b[0mClassificationData\u001b[0m\u001b[1;33m\u001b[0m\u001b[1;33m\u001b[0m\u001b[0m\n",
      "\u001b[1;32mc:\\Users\\sarwa\\anaconda3\\lib\\site-packages\\deepchecks\\vision\\base_checks.py\u001b[0m in \u001b[0;36m<module>\u001b[1;34m\u001b[0m\n\u001b[0;32m     22\u001b[0m \u001b[1;32mfrom\u001b[0m \u001b[0mdeepchecks\u001b[0m\u001b[1;33m.\u001b[0m\u001b[0mvision\u001b[0m\u001b[1;33m.\u001b[0m\u001b[0m_shared_docs\u001b[0m \u001b[1;32mimport\u001b[0m \u001b[0mdocstrings\u001b[0m\u001b[1;33m\u001b[0m\u001b[1;33m\u001b[0m\u001b[0m\n\u001b[0;32m     23\u001b[0m \u001b[1;32mfrom\u001b[0m \u001b[0mdeepchecks\u001b[0m\u001b[1;33m.\u001b[0m\u001b[0mvision\u001b[0m\u001b[1;33m.\u001b[0m\u001b[0mbatch_wrapper\u001b[0m \u001b[1;32mimport\u001b[0m \u001b[0mBatch\u001b[0m\u001b[1;33m\u001b[0m\u001b[1;33m\u001b[0m\u001b[0m\n\u001b[1;32m---> 24\u001b[1;33m \u001b[1;32mfrom\u001b[0m \u001b[0mdeepchecks\u001b[0m\u001b[1;33m.\u001b[0m\u001b[0mvision\u001b[0m\u001b[1;33m.\u001b[0m\u001b[0mcontext\u001b[0m \u001b[1;32mimport\u001b[0m \u001b[0mContext\u001b[0m\u001b[1;33m\u001b[0m\u001b[1;33m\u001b[0m\u001b[0m\n\u001b[0m\u001b[0;32m     25\u001b[0m \u001b[1;32mfrom\u001b[0m \u001b[0mdeepchecks\u001b[0m\u001b[1;33m.\u001b[0m\u001b[0mvision\u001b[0m\u001b[1;33m.\u001b[0m\u001b[0mutils\u001b[0m\u001b[1;33m.\u001b[0m\u001b[0mvision_properties\u001b[0m \u001b[1;32mimport\u001b[0m \u001b[0mSTATIC_PROPERTIES_FORMAT\u001b[0m\u001b[1;33m\u001b[0m\u001b[1;33m\u001b[0m\u001b[0m\n\u001b[0;32m     26\u001b[0m \u001b[1;32mfrom\u001b[0m \u001b[0mdeepchecks\u001b[0m\u001b[1;33m.\u001b[0m\u001b[0mvision\u001b[0m\u001b[1;33m.\u001b[0m\u001b[0mvision_data\u001b[0m \u001b[1;32mimport\u001b[0m \u001b[0mVisionData\u001b[0m\u001b[1;33m\u001b[0m\u001b[1;33m\u001b[0m\u001b[0m\n",
      "\u001b[1;32mc:\\Users\\sarwa\\anaconda3\\lib\\site-packages\\deepchecks\\vision\\context.py\u001b[0m in \u001b[0;36m<module>\u001b[1;34m\u001b[0m\n\u001b[0;32m     24\u001b[0m \u001b[1;32mfrom\u001b[0m \u001b[0mdeepchecks\u001b[0m\u001b[1;33m.\u001b[0m\u001b[0mvision\u001b[0m\u001b[1;33m.\u001b[0m\u001b[0mtask_type\u001b[0m \u001b[1;32mimport\u001b[0m \u001b[0mTaskType\u001b[0m\u001b[1;33m\u001b[0m\u001b[1;33m\u001b[0m\u001b[0m\n\u001b[0;32m     25\u001b[0m \u001b[1;32mfrom\u001b[0m \u001b[0mdeepchecks\u001b[0m\u001b[1;33m.\u001b[0m\u001b[0mvision\u001b[0m\u001b[1;33m.\u001b[0m\u001b[0mutils\u001b[0m\u001b[1;33m.\u001b[0m\u001b[0mvision_properties\u001b[0m \u001b[1;32mimport\u001b[0m \u001b[0mSTATIC_PROPERTIES_FORMAT\u001b[0m\u001b[1;33m\u001b[0m\u001b[1;33m\u001b[0m\u001b[0m\n\u001b[1;32m---> 26\u001b[1;33m \u001b[1;32mfrom\u001b[0m \u001b[0mdeepchecks\u001b[0m\u001b[1;33m.\u001b[0m\u001b[0mvision\u001b[0m\u001b[1;33m.\u001b[0m\u001b[0mvision_data\u001b[0m \u001b[1;32mimport\u001b[0m \u001b[0mVisionData\u001b[0m\u001b[1;33m\u001b[0m\u001b[1;33m\u001b[0m\u001b[0m\n\u001b[0m\u001b[0;32m     27\u001b[0m \u001b[1;33m\u001b[0m\u001b[0m\n\u001b[0;32m     28\u001b[0m \u001b[0m__all__\u001b[0m \u001b[1;33m=\u001b[0m \u001b[1;33m[\u001b[0m\u001b[1;34m'Context'\u001b[0m\u001b[1;33m]\u001b[0m\u001b[1;33m\u001b[0m\u001b[1;33m\u001b[0m\u001b[0m\n",
      "\u001b[1;32mc:\\Users\\sarwa\\anaconda3\\lib\\site-packages\\deepchecks\\vision\\vision_data.py\u001b[0m in \u001b[0;36m<module>\u001b[1;34m\u001b[0m\n\u001b[0;32m     27\u001b[0m \u001b[1;32mfrom\u001b[0m \u001b[0mdeepchecks\u001b[0m\u001b[1;33m.\u001b[0m\u001b[0mvision\u001b[0m\u001b[1;33m.\u001b[0m\u001b[0mtask_type\u001b[0m \u001b[1;32mimport\u001b[0m \u001b[0mTaskType\u001b[0m\u001b[1;33m\u001b[0m\u001b[1;33m\u001b[0m\u001b[0m\n\u001b[0;32m     28\u001b[0m \u001b[1;32mfrom\u001b[0m \u001b[0mdeepchecks\u001b[0m\u001b[1;33m.\u001b[0m\u001b[0mvision\u001b[0m\u001b[1;33m.\u001b[0m\u001b[0mutils\u001b[0m\u001b[1;33m.\u001b[0m\u001b[0mimage_functions\u001b[0m \u001b[1;32mimport\u001b[0m \u001b[0mImageInfo\u001b[0m\u001b[1;33m\u001b[0m\u001b[1;33m\u001b[0m\u001b[0m\n\u001b[1;32m---> 29\u001b[1;33m \u001b[1;32mfrom\u001b[0m \u001b[0mdeepchecks\u001b[0m\u001b[1;33m.\u001b[0m\u001b[0mvision\u001b[0m\u001b[1;33m.\u001b[0m\u001b[0mutils\u001b[0m\u001b[1;33m.\u001b[0m\u001b[0mtransformations\u001b[0m \u001b[1;32mimport\u001b[0m \u001b[0mget_transforms_handler\u001b[0m\u001b[1;33m\u001b[0m\u001b[1;33m\u001b[0m\u001b[0m\n\u001b[0m\u001b[0;32m     30\u001b[0m \u001b[1;33m\u001b[0m\u001b[0m\n\u001b[0;32m     31\u001b[0m \u001b[0m__all__\u001b[0m \u001b[1;33m=\u001b[0m \u001b[1;33m[\u001b[0m\u001b[1;34m'VisionData'\u001b[0m\u001b[1;33m]\u001b[0m\u001b[1;33m\u001b[0m\u001b[1;33m\u001b[0m\u001b[0m\n",
      "\u001b[1;32mc:\\Users\\sarwa\\anaconda3\\lib\\site-packages\\deepchecks\\vision\\utils\\transformations.py\u001b[0m in \u001b[0;36m<module>\u001b[1;34m\u001b[0m\n\u001b[0;32m     18\u001b[0m \u001b[1;32mimport\u001b[0m \u001b[0mnumpy\u001b[0m \u001b[1;32mas\u001b[0m \u001b[0mnp\u001b[0m\u001b[1;33m\u001b[0m\u001b[1;33m\u001b[0m\u001b[0m\n\u001b[0;32m     19\u001b[0m \u001b[1;32mimport\u001b[0m \u001b[0mtorch\u001b[0m\u001b[1;33m\u001b[0m\u001b[1;33m\u001b[0m\u001b[0m\n\u001b[1;32m---> 20\u001b[1;33m \u001b[1;32mimport\u001b[0m \u001b[0mtorchvision\u001b[0m\u001b[1;33m.\u001b[0m\u001b[0mtransforms\u001b[0m \u001b[1;32mas\u001b[0m \u001b[0mT\u001b[0m\u001b[1;33m\u001b[0m\u001b[1;33m\u001b[0m\u001b[0m\n\u001b[0m\u001b[0;32m     21\u001b[0m \u001b[1;32mfrom\u001b[0m \u001b[0mPIL\u001b[0m \u001b[1;32mimport\u001b[0m \u001b[0mImage\u001b[0m\u001b[1;33m\u001b[0m\u001b[1;33m\u001b[0m\u001b[0m\n\u001b[0;32m     22\u001b[0m \u001b[1;33m\u001b[0m\u001b[0m\n",
      "\u001b[1;31mModuleNotFoundError\u001b[0m: No module named 'torchvision'"
     ]
    }
   ],
   "source": [
    "from deepchecks.vision.checks import ClassPerformance\n",
    "from deepchecks.vision.datasets.classification import mnist\n",
    "mnist_model = mnist.load_model()\n",
    "train_ds = mnist.load_dataset(train = True, object_type = 'VisionData')\n",
    "test_ds = mnist.load_dataset(train = False, object_type = 'VisionData')\n",
    "check = ClassPerformance()\n",
    "result = check.run(train_ds, test_ds, mnist_model)\n"
   ]
  },
  {
   "cell_type": "code",
   "execution_count": 12,
   "metadata": {},
   "outputs": [],
   "source": [
    "import numpy as np\n",
    "import pandas as pd\n",
    "from sklearn.ensemble import RandomForestClassifier\n",
    "from sklearn.model_selection import train_test_split\n",
    "from deepchecks.tabular.datasets.classification import iris"
   ]
  },
  {
   "cell_type": "code",
   "execution_count": 13,
   "metadata": {},
   "outputs": [],
   "source": [
    "iris_df = iris.load_data(data_format = 'Dataframe', as_train_test= False)\n",
    "label_col = 'target'\n",
    "df_train, df_test = train_test_split(iris_df, stratify= iris_df[label_col], random_state = 0)\n",
    "rf_clf = RandomForestClassifier(random_state = 0)\n",
    "rf_clf.fit(df_train.drop(label_col, axis = 1), df_train[label_col]);"
   ]
  },
  {
   "cell_type": "code",
   "execution_count": 14,
   "metadata": {},
   "outputs": [],
   "source": [
    "from deepchecks.tabular import Dataset\n",
    "ds_train = Dataset(df_train, label = label_col, cat_features=[])\n",
    "ds_test = Dataset(df_test, label= label_col, cat_features= [])"
   ]
  },
  {
   "cell_type": "code",
   "execution_count": 15,
   "metadata": {},
   "outputs": [],
   "source": [
    "from deepchecks.tabular.suites import full_suite\n",
    "suite = full_suite()"
   ]
  },
  {
   "cell_type": "code",
   "execution_count": 16,
   "metadata": {},
   "outputs": [
    {
     "data": {
      "text/html": [
       "\n",
       "    <style>\n",
       "        progress {\n",
       "            -webkit-appearance: none;\n",
       "            border: none;\n",
       "            border-radius: 3px;\n",
       "            width: 300px;\n",
       "            height: 20px;\n",
       "            vertical-align: middle;\n",
       "            margin-right: 10px;\n",
       "            background-color: aliceblue;\n",
       "        }\n",
       "        progress::-webkit-progress-bar {\n",
       "            border-radius: 3px;\n",
       "            background-color: aliceblue;\n",
       "        }\n",
       "        progress::-webkit-progress-value {\n",
       "            background-color: #9d60fb;\n",
       "        }\n",
       "        progress::-moz-progress-bar {\n",
       "            background-color: #9d60fb;\n",
       "        }\n",
       "    </style>\n",
       "    "
      ]
     },
     "metadata": {},
     "output_type": "display_data"
    },
    {
     "data": {
      "text/html": [
       "\n",
       "            <div>\n",
       "                <label>\n",
       "                    Full Suite:<br/>\n",
       "                    <progress\n",
       "                        value='36'\n",
       "                        max='36'\n",
       "                        class='deepchecks'\n",
       "                    >\n",
       "                    </progress>\n",
       "                </label>\n",
       "                <span>36/36 [Time: 00:29, Check=Identifier Label Correlation]</span>\n",
       "            </div>\n",
       "        "
      ]
     },
     "metadata": {},
     "output_type": "display_data"
    },
    {
     "data": {
      "application/vnd.jupyter.widget-view+json": {
       "model_id": "5224e852334c4defa6b84cc33c943606",
       "version_major": 2,
       "version_minor": 0
      },
      "text/plain": [
       "Accordion(children=(VBox(children=(HTML(value='\\n            <h1 id=\"summary_TYLHS85DDIB7K9QOV1FQD14H0\">Full S…"
      ]
     },
     "metadata": {},
     "output_type": "display_data"
    }
   ],
   "source": [
    "suite.run(train_dataset = ds_train, test_dataset = ds_test, model = rf_clf)"
   ]
  },
  {
   "cell_type": "code",
   "execution_count": 18,
   "metadata": {},
   "outputs": [
    {
     "data": {
      "text/html": [
       "\n",
       "    <style>\n",
       "        progress {\n",
       "            -webkit-appearance: none;\n",
       "            border: none;\n",
       "            border-radius: 3px;\n",
       "            width: 300px;\n",
       "            height: 20px;\n",
       "            vertical-align: middle;\n",
       "            margin-right: 10px;\n",
       "            background-color: aliceblue;\n",
       "        }\n",
       "        progress::-webkit-progress-bar {\n",
       "            border-radius: 3px;\n",
       "            background-color: aliceblue;\n",
       "        }\n",
       "        progress::-webkit-progress-value {\n",
       "            background-color: #9d60fb;\n",
       "        }\n",
       "        progress::-moz-progress-bar {\n",
       "            background-color: #9d60fb;\n",
       "        }\n",
       "    </style>\n",
       "    "
      ]
     },
     "metadata": {},
     "output_type": "display_data"
    },
    {
     "data": {
      "text/html": [
       "\n",
       "            <div>\n",
       "                <label>\n",
       "                    Data Integrity Suite:<br/>\n",
       "                    <progress\n",
       "                        value='12'\n",
       "                        max='12'\n",
       "                        class='deepchecks'\n",
       "                    >\n",
       "                    </progress>\n",
       "                </label>\n",
       "                <span>12/12 [Time: 00:00, Check=Identifier Label Correlation]</span>\n",
       "            </div>\n",
       "        "
      ]
     },
     "metadata": {},
     "output_type": "display_data"
    },
    {
     "data": {
      "application/vnd.jupyter.widget-view+json": {
       "model_id": "b27aa7fad5b746ba81dd60658e7ae4db",
       "version_major": 2,
       "version_minor": 0
      },
      "text/plain": [
       "Accordion(children=(VBox(children=(HTML(value='\\n            <h1 id=\"summary_ZPCEKWHJV2S3I835JCUQC2E7M\">Data I…"
      ]
     },
     "metadata": {},
     "output_type": "display_data"
    }
   ],
   "source": [
    "from deepchecks.tabular.suites import single_dataset_integrity\n",
    "integ_suite = single_dataset_integrity()\n",
    "integ_suite.run(ds_train)"
   ]
  },
  {
   "cell_type": "code",
   "execution_count": 19,
   "metadata": {},
   "outputs": [
    {
     "data": {
      "application/vnd.jupyter.widget-view+json": {
       "model_id": "04cbf3dc2f5f477c8c3c761be64c4d36",
       "version_major": 2,
       "version_minor": 0
      },
      "text/plain": [
       "VBox(children=(HTML(value='<h4><b>Train Test Label Drift</b></h4>'), HTML(value='<p>    Calculate label drift …"
      ]
     },
     "metadata": {},
     "output_type": "display_data"
    }
   ],
   "source": [
    "from deepchecks.tabular.checks import TrainTestLabelDrift\n",
    "check = TrainTestLabelDrift()\n",
    "result = check.run(ds_train, ds_test)\n",
    "result"
   ]
  },
  {
   "cell_type": "code",
   "execution_count": 20,
   "metadata": {},
   "outputs": [
    {
     "data": {
      "text/plain": [
       "{'Drift score': 0.0, 'Method': \"Cramer's V\"}"
      ]
     },
     "execution_count": 20,
     "metadata": {},
     "output_type": "execute_result"
    }
   ],
   "source": [
    "result.value"
   ]
  },
  {
   "cell_type": "code",
   "execution_count": 21,
   "metadata": {},
   "outputs": [
    {
     "data": {
      "text/plain": [
       "Full Suite: [\n",
       "\t0: TrainTestPerformance\n",
       "\t\tConditions:\n",
       "\t\t\t0: Train-Test scores relative degradation is less than 0.1\n",
       "\t1: RocReport(excluded_classes=[])\n",
       "\t\tConditions:\n",
       "\t\t\t0: AUC score for all the classes is greater than 0.7\n",
       "\t2: ConfusionMatrixReport\n",
       "\t3: TrainTestPredictionDrift\n",
       "\t\tConditions:\n",
       "\t\t\t0: categorical drift score < 0.15 and numerical drift score < 0.075\n",
       "\t4: SimpleModelComparison\n",
       "\t\tConditions:\n",
       "\t\t\t0: Model performance gain over simple model is greater than 10%\n",
       "\t5: WeakSegmentsPerformance(n_to_show=5)\n",
       "\t\tConditions:\n",
       "\t\t\t0: The relative performance of weakest segment is greater than 80% of average model performance.\n",
       "\t6: CalibrationScore\n",
       "\t7: RegressionSystematicError\n",
       "\t\tConditions:\n",
       "\t\t\t0: Bias ratio is less than 0.01\n",
       "\t8: RegressionErrorDistribution\n",
       "\t\tConditions:\n",
       "\t\t\t0: Kurtosis value is greater than -0.1\n",
       "\t9: UnusedFeatures\n",
       "\t\tConditions:\n",
       "\t\t\t0: Number of high variance unused features is less or equal to 5\n",
       "\t10: BoostingOverfit\n",
       "\t\tConditions:\n",
       "\t\t\t0: Test score over iterations is less than 5% from the best score\n",
       "\t11: ModelInferenceTime\n",
       "\t\tConditions:\n",
       "\t\t\t0: Average model inference time for one sample is less than 0.001\n",
       "\t12: DatasetsSizeComparison\n",
       "\t\tConditions:\n",
       "\t\t\t0: Test-Train size ratio is greater than 0.01\n",
       "\t13: NewLabelTrainTest\n",
       "\t\tConditions:\n",
       "\t\t\t0: Number of new label values is less or equal to 0\n",
       "\t14: CategoryMismatchTrainTest\n",
       "\t\tConditions:\n",
       "\t\t\t0: Ratio of samples with a new category is less or equal to 0%\n",
       "\t15: StringMismatchComparison\n",
       "\t\tConditions:\n",
       "\t\t\t0: No new variants allowed in test data\n",
       "\t16: DateTrainTestLeakageDuplicates\n",
       "\t\tConditions:\n",
       "\t\t\t0: Date leakage ratio is less or equal to 0%\n",
       "\t17: DateTrainTestLeakageOverlap\n",
       "\t\tConditions:\n",
       "\t\t\t0: Date leakage ratio is less or equal to 0%\n",
       "\t18: IndexTrainTestLeakage\n",
       "\t\tConditions:\n",
       "\t\t\t0: Ratio of leaking indices is less or equal to 0%\n",
       "\t19: TrainTestSamplesMix\n",
       "\t\tConditions:\n",
       "\t\t\t0: Percentage of test data samples that appear in train data is less or equal to 10%\n",
       "\t20: FeatureLabelCorrelationChange(ppscore_params={}, random_state=42)\n",
       "\t\tConditions:\n",
       "\t\t\t0: Train-Test features' Predictive Power Score difference is less than 0.2\n",
       "\t\t\t1: Train features' Predictive Power Score is less than 0.7\n",
       "\t21: TrainTestFeatureDrift\n",
       "\t\tConditions:\n",
       "\t\t\t0: categorical drift score < 0.2 and numerical drift score < 0.1\n",
       "\t22: TrainTestLabelDrift\n",
       "\t\tConditions:\n",
       "\t\t\t0: categorical drift score < 0.2 and numerical drift score < 0.1 for label drift\n",
       "\t23: WholeDatasetDrift\n",
       "\t\tConditions:\n",
       "\t\t\t0: Drift value is less than 0.25\n",
       "\t24: IsSingleValue\n",
       "\t\tConditions:\n",
       "\t\t\t0: Does not contain only a single value\n",
       "\t25: SpecialCharacters\n",
       "\t\tConditions:\n",
       "\t\t\t0: Ratio of samples containing solely special character is less or equal to 0.1%\n",
       "\t26: MixedNulls\n",
       "\t\tConditions:\n",
       "\t\t\t0: Number of different null types is less or equal to 1\n",
       "\t27: MixedDataTypes\n",
       "\t\tConditions:\n",
       "\t\t\t0: Rare data types in column are either more than 10% or less than 1% of the data\n",
       "\t28: StringMismatch\n",
       "\t\tConditions:\n",
       "\t\t\t0: No string variants\n",
       "\t29: DataDuplicates\n",
       "\t\tConditions:\n",
       "\t\t\t0: Duplicate data ratio is less or equal to 0%\n",
       "\t30: StringLengthOutOfBounds\n",
       "\t\tConditions:\n",
       "\t\t\t0: Ratio of string length outliers is less or equal to 0%\n",
       "\t31: ConflictingLabels\n",
       "\t\tConditions:\n",
       "\t\t\t0: Ambiguous sample ratio is less or equal to 0%\n",
       "\t32: OutlierSampleDetection\n",
       "\t33: FeatureLabelCorrelation(ppscore_params={}, random_state=42)\n",
       "\t\tConditions:\n",
       "\t\t\t0: Features' Predictive Power Score is less than 0.8\n",
       "\t34: FeatureFeatureCorrelation\n",
       "\t\tConditions:\n",
       "\t\t\t0: Not more than 0 pairs are correlated above 0.9\n",
       "\t35: IdentifierLabelCorrelation(ppscore_params={})\n",
       "\t\tConditions:\n",
       "\t\t\t0: Identifier columns PPS is less or equal to 0\n",
       "]"
      ]
     },
     "execution_count": 21,
     "metadata": {},
     "output_type": "execute_result"
    }
   ],
   "source": [
    "suite"
   ]
  },
  {
   "cell_type": "code",
   "execution_count": 23,
   "metadata": {},
   "outputs": [
    {
     "name": "stdout",
     "output_type": "stream",
     "text": [
      "WeakSegmentsPerformance(n_to_show=5)\n",
      "\tConditions:\n",
      "\t\t0: The relative performance of weakest segment is greater than 80% of average model performance.\n"
     ]
    }
   ],
   "source": [
    "print(suite[5])\n",
    "suite[5].remove_condition(0)"
   ]
  },
  {
   "cell_type": "code",
   "execution_count": 24,
   "metadata": {},
   "outputs": [
    {
     "data": {
      "text/plain": [
       "WeakSegmentsPerformance(n_to_show=5)"
      ]
     },
     "execution_count": 24,
     "metadata": {},
     "output_type": "execute_result"
    }
   ],
   "source": [
    "suite[5]"
   ]
  }
 ],
 "metadata": {
  "kernelspec": {
   "display_name": "Python 3.9.12 ('base')",
   "language": "python",
   "name": "python3"
  },
  "language_info": {
   "codemirror_mode": {
    "name": "ipython",
    "version": 3
   },
   "file_extension": ".py",
   "mimetype": "text/x-python",
   "name": "python",
   "nbconvert_exporter": "python",
   "pygments_lexer": "ipython3",
   "version": "3.9.12"
  },
  "orig_nbformat": 4,
  "vscode": {
   "interpreter": {
    "hash": "ecdb0ab02a620289a6dfbe50a736c56e802153a4c20e0b9c004cb86daac40531"
   }
  }
 },
 "nbformat": 4,
 "nbformat_minor": 2
}
