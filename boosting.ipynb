{
  "nbformat": 4,
  "nbformat_minor": 0,
  "metadata": {
    "colab": {
      "provenance": [],
      "authorship_tag": "ABX9TyM/i4fCdVv52Z0ba3kXka23",
      "include_colab_link": true
    },
    "kernelspec": {
      "name": "python3",
      "display_name": "Python 3"
    },
    "language_info": {
      "name": "python"
    }
  },
  "cells": [
    {
      "cell_type": "markdown",
      "metadata": {
        "id": "view-in-github",
        "colab_type": "text"
      },
      "source": [
        "<a href=\"https://colab.research.google.com/github/jagjeetkaur123/marqo/blob/main/boosting.ipynb\" target=\"_parent\"><img src=\"https://colab.research.google.com/assets/colab-badge.svg\" alt=\"Open In Colab\"/></a>"
      ]
    },
    {
      "cell_type": "code",
      "execution_count": null,
      "metadata": {
        "id": "FEARN2VQgbMj"
      },
      "outputs": [],
      "source": [
        "from sklearn.ensemble import AdaBoostClassifier\n",
        "from sklearn.preprocessing import LabelEncoder\n",
        "from sklearn.tree import DecisionTreeClassifier\n",
        "import pandas as pd\n",
        "from sklearn.model_selection import train_test_split \n",
        "from sklearn import metrics"
      ]
    },
    {
      "cell_type": "code",
      "source": [
        "dataset = pd.read_csv('mushrooms.csv')"
      ],
      "metadata": {
        "id": "-5kBgk8f2N2_"
      },
      "execution_count": null,
      "outputs": []
    },
    {
      "cell_type": "code",
      "source": [
        "dataset = dataset.sample(frac = 1)"
      ],
      "metadata": {
        "id": "Tn6AqP7Z2MO2"
      },
      "execution_count": null,
      "outputs": []
    },
    {
      "cell_type": "code",
      "source": [
        "dataset.columns"
      ],
      "metadata": {
        "colab": {
          "base_uri": "https://localhost:8080/"
        },
        "id": "1WU8CP1A5BK0",
        "outputId": "6b90364c-d4b2-44be-92b6-887db13c16e2"
      },
      "execution_count": null,
      "outputs": [
        {
          "output_type": "execute_result",
          "data": {
            "text/plain": [
              "Index(['class', 'cap-shape', 'cap-surface', 'cap-color', 'bruises', 'odor',\n",
              "       'gill-attachment', 'gill-spacing', 'gill-size', 'gill-color',\n",
              "       'stalk-shape', 'stalk-root', 'stalk-surface-above-ring',\n",
              "       'stalk-surface-below-ring', 'stalk-color-above-ring',\n",
              "       'stalk-color-below-ring', 'veil-type', 'veil-color', 'ring-number',\n",
              "       'ring-type', 'spore-print-color', 'population', 'habitat'],\n",
              "      dtype='object')"
            ]
          },
          "metadata": {},
          "execution_count": 6
        }
      ]
    },
    {
      "cell_type": "code",
      "source": [
        "for label in dataset.columns:\n",
        "  dataset[label] = LabelEncoder().fit(dataset[label]).transform(dataset[label])"
      ],
      "metadata": {
        "id": "wMEmnYuA5J-t"
      },
      "execution_count": null,
      "outputs": []
    },
    {
      "cell_type": "code",
      "source": [
        "print(dataset.info())"
      ],
      "metadata": {
        "colab": {
          "base_uri": "https://localhost:8080/"
        },
        "id": "3jm-_bnl5lZR",
        "outputId": "4823466f-d2e2-4b2c-a31b-eee39d3d1e3c"
      },
      "execution_count": null,
      "outputs": [
        {
          "output_type": "stream",
          "name": "stdout",
          "text": [
            "<class 'pandas.core.frame.DataFrame'>\n",
            "Int64Index: 8124 entries, 2981 to 122\n",
            "Data columns (total 23 columns):\n",
            " #   Column                    Non-Null Count  Dtype\n",
            "---  ------                    --------------  -----\n",
            " 0   class                     8124 non-null   int64\n",
            " 1   cap-shape                 8124 non-null   int64\n",
            " 2   cap-surface               8124 non-null   int64\n",
            " 3   cap-color                 8124 non-null   int64\n",
            " 4   bruises                   8124 non-null   int64\n",
            " 5   odor                      8124 non-null   int64\n",
            " 6   gill-attachment           8124 non-null   int64\n",
            " 7   gill-spacing              8124 non-null   int64\n",
            " 8   gill-size                 8124 non-null   int64\n",
            " 9   gill-color                8124 non-null   int64\n",
            " 10  stalk-shape               8124 non-null   int64\n",
            " 11  stalk-root                8124 non-null   int64\n",
            " 12  stalk-surface-above-ring  8124 non-null   int64\n",
            " 13  stalk-surface-below-ring  8124 non-null   int64\n",
            " 14  stalk-color-above-ring    8124 non-null   int64\n",
            " 15  stalk-color-below-ring    8124 non-null   int64\n",
            " 16  veil-type                 8124 non-null   int64\n",
            " 17  veil-color                8124 non-null   int64\n",
            " 18  ring-number               8124 non-null   int64\n",
            " 19  ring-type                 8124 non-null   int64\n",
            " 20  spore-print-color         8124 non-null   int64\n",
            " 21  population                8124 non-null   int64\n",
            " 22  habitat                   8124 non-null   int64\n",
            "dtypes: int64(23)\n",
            "memory usage: 1.5 MB\n",
            "None\n"
          ]
        }
      ]
    },
    {
      "cell_type": "code",
      "source": [
        "x = dataset.drop(['class'], axis = 1)\n",
        "y = dataset['class']"
      ],
      "metadata": {
        "id": "Z0sB3uAT5yOL"
      },
      "execution_count": null,
      "outputs": []
    },
    {
      "cell_type": "code",
      "source": [
        "x_train, x_test, y_train, y_test = train_test_split(x,y, test_size = 0.3)"
      ],
      "metadata": {
        "id": "Qhh5skar70o6"
      },
      "execution_count": null,
      "outputs": []
    },
    {
      "cell_type": "code",
      "source": [
        "model = DecisionTreeClassifier(criterion = 'entropy', max_depth = 1)\n",
        "AdaBoost = AdaBoostClassifier(base_estimator = model, n_estimators = 400, learning_rate = 1)\n",
        "boostmodel = AdaBoost.fit(x_train, y_train)"
      ],
      "metadata": {
        "id": "Y9lirsel8Fq8"
      },
      "execution_count": null,
      "outputs": []
    },
    {
      "cell_type": "code",
      "source": [
        "y_pred = boostmodel.predict(x_test)\n",
        "predictions = metrics.accuracy_score(y_test, y_pred)"
      ],
      "metadata": {
        "id": "UnyPEQtw8gC5"
      },
      "execution_count": null,
      "outputs": []
    },
    {
      "cell_type": "code",
      "source": [
        "predictions"
      ],
      "metadata": {
        "colab": {
          "base_uri": "https://localhost:8080/"
        },
        "id": "EvDOgN7A_XY5",
        "outputId": "b786ae0e-cb9e-4c98-816a-b3176e944ede"
      },
      "execution_count": null,
      "outputs": [
        {
          "output_type": "execute_result",
          "data": {
            "text/plain": [
              "1.0"
            ]
          },
          "metadata": {},
          "execution_count": 17
        }
      ]
    }
  ]
}